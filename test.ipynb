{
 "cells": [
  {
   "cell_type": "code",
   "execution_count": 1,
   "metadata": {},
   "outputs": [],
   "source": [
    "from src import *\n",
    "import matplotlib.pyplot as plt"
   ]
  },
  {
   "cell_type": "code",
   "execution_count": 2,
   "metadata": {},
   "outputs": [],
   "source": [
    "import pandas as pd\n",
    "ibov = pd.read_csv('tests/ibov.csv', header=None).set_index(0)[1]\n",
    "ibov.name='IBOV'"
   ]
  },
  {
   "cell_type": "code",
   "execution_count": 3,
   "metadata": {},
   "outputs": [],
   "source": [
    "all_assets = get_assets()"
   ]
  },
  {
   "cell_type": "code",
   "execution_count": 4,
   "metadata": {},
   "outputs": [],
   "source": [
    "fin_assets = all_assets[all_assets['setor'] == 'Financeiro'].index.intersection(ibov.index)"
   ]
  },
  {
   "cell_type": "code",
   "execution_count": 16,
   "metadata": {},
   "outputs": [],
   "source": []
  },
  {
   "cell_type": "code",
   "execution_count": 17,
   "metadata": {},
   "outputs": [
    {
     "data": {
      "text/html": [
       "<div>\n",
       "<style scoped>\n",
       "    .dataframe tbody tr th:only-of-type {\n",
       "        vertical-align: middle;\n",
       "    }\n",
       "\n",
       "    .dataframe tbody tr th {\n",
       "        vertical-align: top;\n",
       "    }\n",
       "\n",
       "    .dataframe thead th {\n",
       "        text-align: right;\n",
       "    }\n",
       "</style>\n",
       "<table border=\"1\" class=\"dataframe\">\n",
       "  <thead>\n",
       "    <tr style=\"text-align: right;\">\n",
       "      <th></th>\n",
       "      <th>cot_nominal</th>\n",
       "      <th>cot_ajust_acoes</th>\n",
       "      <th>cot_ajust_acoes_dinheiro</th>\n",
       "    </tr>\n",
       "    <tr>\n",
       "      <th>datascotacoes</th>\n",
       "      <th></th>\n",
       "      <th></th>\n",
       "      <th></th>\n",
       "    </tr>\n",
       "  </thead>\n",
       "  <tbody>\n",
       "    <tr>\n",
       "      <th>2001-01-02</th>\n",
       "      <td>7.868852</td>\n",
       "      <td>0.655738</td>\n",
       "      <td>0.218579</td>\n",
       "    </tr>\n",
       "    <tr>\n",
       "      <th>2001-01-03</th>\n",
       "      <td>8.378871</td>\n",
       "      <td>0.697632</td>\n",
       "      <td>0.233151</td>\n",
       "    </tr>\n",
       "    <tr>\n",
       "      <th>2001-01-04</th>\n",
       "      <td>8.105647</td>\n",
       "      <td>0.675774</td>\n",
       "      <td>0.225865</td>\n",
       "    </tr>\n",
       "    <tr>\n",
       "      <th>2001-01-05</th>\n",
       "      <td>8.014572</td>\n",
       "      <td>0.668488</td>\n",
       "      <td>0.222222</td>\n",
       "    </tr>\n",
       "    <tr>\n",
       "      <th>2001-01-08</th>\n",
       "      <td>7.923497</td>\n",
       "      <td>0.661202</td>\n",
       "      <td>0.220401</td>\n",
       "    </tr>\n",
       "    <tr>\n",
       "      <th>...</th>\n",
       "      <td>...</td>\n",
       "      <td>...</td>\n",
       "      <td>...</td>\n",
       "    </tr>\n",
       "    <tr>\n",
       "      <th>2023-10-06</th>\n",
       "      <td>5.331738</td>\n",
       "      <td>5.331738</td>\n",
       "      <td>5.331738</td>\n",
       "    </tr>\n",
       "    <tr>\n",
       "      <th>2023-10-09</th>\n",
       "      <td>5.293461</td>\n",
       "      <td>5.293461</td>\n",
       "      <td>5.293461</td>\n",
       "    </tr>\n",
       "    <tr>\n",
       "      <th>2023-10-10</th>\n",
       "      <td>5.325359</td>\n",
       "      <td>5.325359</td>\n",
       "      <td>5.325359</td>\n",
       "    </tr>\n",
       "    <tr>\n",
       "      <th>2023-10-11</th>\n",
       "      <td>5.371611</td>\n",
       "      <td>5.371611</td>\n",
       "      <td>5.371611</td>\n",
       "    </tr>\n",
       "    <tr>\n",
       "      <th>2023-10-13</th>\n",
       "      <td>5.310207</td>\n",
       "      <td>5.310207</td>\n",
       "      <td>5.310207</td>\n",
       "    </tr>\n",
       "  </tbody>\n",
       "</table>\n",
       "<p>5640 rows × 3 columns</p>\n",
       "</div>"
      ],
      "text/plain": [
       "               cot_nominal  cot_ajust_acoes  cot_ajust_acoes_dinheiro\n",
       "datascotacoes                                                        \n",
       "2001-01-02        7.868852         0.655738                  0.218579\n",
       "2001-01-03        8.378871         0.697632                  0.233151\n",
       "2001-01-04        8.105647         0.675774                  0.225865\n",
       "2001-01-05        8.014572         0.668488                  0.222222\n",
       "2001-01-08        7.923497         0.661202                  0.220401\n",
       "...                    ...              ...                       ...\n",
       "2023-10-06        5.331738         5.331738                  5.331738\n",
       "2023-10-09        5.293461         5.293461                  5.293461\n",
       "2023-10-10        5.325359         5.325359                  5.325359\n",
       "2023-10-11        5.371611         5.371611                  5.371611\n",
       "2023-10-13        5.310207         5.310207                  5.310207\n",
       "\n",
       "[5640 rows x 3 columns]"
      ]
     },
     "execution_count": 17,
     "metadata": {},
     "output_type": "execute_result"
    }
   ],
   "source": [
    "pl = get_pl('VALE3')\n",
    "pl"
   ]
  },
  {
   "cell_type": "code",
   "execution_count": 155,
   "metadata": {},
   "outputs": [],
   "source": [
    "asset = fin_assets[0]\n",
    "table = get_tables(asset,'(Resumo DRE Últimos Doze Meses|Resumo Balanço Patrimonial)')\n",
    "if 'Lucro/Ação' in table['Resumo DRE Últimos Doze Meses'].columns:\n",
    "    lpa = table['Resumo DRE Últimos Doze Meses']['Lucro/Ação'] \\\n",
    "        .str.replace('-?\\s*R\\$','',regex=True) \\\n",
    "        .str.replace(',','.',regex=False) \\\n",
    "        .str.replace('NA','NAN') \\\n",
    "        .astype(float) \\\n",
    "        .sort_index()\n",
    "else:\n",
    "    ll = table['Resumo DRE Últimos Doze Meses']['Lucro Líquido'].sort_index().apply(lambda l: eval(l.replace('R$','').replace('T','*10**3B').replace('B','*10**3M').replace('M','*10**6').replace(' ','').replace('.','').replace(',','.').replace('NA','None')))\n",
    "    na = table['Resumo Balanço Patrimonial']['Total'].sort_index().apply(lambda l: eval(l.replace('R$','').replace('T','*10**3B').replace('B','*10**3M').replace('M','*10**6').replace(' ','').replace('.','').replace(',','.').replace('NA','None')))\n",
    "    lpa = ll/na\n",
    "# cot_nominal\tcot_ajust_acoes\tcot_ajust_acoes_dinheiro\n",
    "lpa.dropna(inplace=True)\n",
    "prices = get_prices(asset)"
   ]
  },
  {
   "cell_type": "code",
   "execution_count": 156,
   "metadata": {},
   "outputs": [
    {
     "name": "stderr",
     "output_type": "stream",
     "text": [
      "/tmp/ipykernel_18707/1588526371.py:1: FutureWarning: The default dtype for empty Series will be 'object' instead of 'float64' in a future version. Specify a dtype explicitly to silence this warning.\n",
      "  lpa_full = pd.Series(index=prices.index.union(lpa.index))\n"
     ]
    },
    {
     "data": {
      "text/plain": [
       "<Axes: xlabel='datascotacoes'>"
      ]
     },
     "execution_count": 156,
     "metadata": {},
     "output_type": "execute_result"
    },
    {
     "data": {
      "image/png": "[encoded data removed]",
      "text/plain": [
       "<Figure size 640x480 with 1 Axes>"
      ]
     },
     "metadata": {},
     "output_type": "display_data"
    }
   ],
   "source": [
    "lpa_full = pd.Series(index=prices.index.union(lpa.index))\n",
    "lpa_full.loc[lpa.index] = lpa\n",
    "lpa_full.ffill(inplace=True)\n",
    "lpa_full = lpa_full[prices.index]\n",
    "lpa_full.dropna().plot()"
   ]
  },
  {
   "cell_type": "code",
   "execution_count": 157,
   "metadata": {},
   "outputs": [
    {
     "name": "stdout",
     "output_type": "stream",
     "text": [
      "ALSO3\n"
     ]
    },
    {
     "data": {
      "image/png": "[encoded data removed]",
      "text/plain": [
       "<Figure size 640x480 with 2 Axes>"
      ]
     },
     "metadata": {},
     "output_type": "display_data"
    }
   ],
   "source": [
    "price_types = ['cot_nominal', 'cot_ajust_acoes', 'cot_ajust_acoes_dinheiro']\n",
    "price_type = price_types[2]\n",
    "plt.plot((prices[price_type]/lpa_full))\n",
    "plt.yscale('log')\n",
    "plt.twinx()\n",
    "plt.plot(prices[price_type],c='C1')\n",
    "print(asset)"
   ]
  },
  {
   "cell_type": "code",
   "execution_count": 135,
   "metadata": {},
   "outputs": [
    {
     "ename": "InvalidIndexError",
     "evalue": "datascotacoes\n2000-01-03   NaN\n2000-01-04   NaN\n2000-01-05   NaN\n2000-01-06   NaN\n2000-01-07   NaN\n              ..\n2023-10-06   NaN\n2023-10-09   NaN\n2023-10-10   NaN\n2023-10-11   NaN\n2023-10-13   NaN\nLength: 5884, dtype: float64",
     "output_type": "error",
     "traceback": [
      "\u001b[0;31m---------------------------------------------------------------------------\u001b[0m",
      "\u001b[0;31mInvalidIndexError\u001b[0m                         Traceback (most recent call last)",
      "\u001b[1;32m/home/lucas/projetos/pessoais/sugestao_carteira_de_acoes/test.ipynb Cell 8\u001b[0m line \u001b[0;36m1\n\u001b[0;32m----> <a href='vscode-notebook-cell://wsl%2Bubuntu/home/lucas/projetos/pessoais/sugestao_carteira_de_acoes/test.ipynb#X63sdnNjb2RlLXJlbW90ZQ%3D%3D?line=0'>1</a>\u001b[0m lpa\u001b[39m.\u001b[39;49mindex\u001b[39m.\u001b[39;49mget_loc(lpa_full, method\u001b[39m=\u001b[39;49m\u001b[39m'\u001b[39;49m\u001b[39mnearest\u001b[39;49m\u001b[39m'\u001b[39;49m)\n",
      "File \u001b[0;32m~/anaconda3/lib/python3.10/site-packages/pandas/core/indexes/datetimes.py:690\u001b[0m, in \u001b[0;36mDatetimeIndex.get_loc\u001b[0;34m(self, key, method, tolerance)\u001b[0m\n\u001b[1;32m    682\u001b[0m \u001b[39mdef\u001b[39;00m \u001b[39mget_loc\u001b[39m(\u001b[39mself\u001b[39m, key, method\u001b[39m=\u001b[39m\u001b[39mNone\u001b[39;00m, tolerance\u001b[39m=\u001b[39m\u001b[39mNone\u001b[39;00m):\n\u001b[1;32m    683\u001b[0m     \u001b[39m\"\"\"\u001b[39;00m\n\u001b[1;32m    684\u001b[0m \u001b[39m    Get integer location for requested label\u001b[39;00m\n\u001b[1;32m    685\u001b[0m \n\u001b[0;32m   (...)\u001b[0m\n\u001b[1;32m    688\u001b[0m \u001b[39m    loc : int\u001b[39;00m\n\u001b[1;32m    689\u001b[0m \u001b[39m    \"\"\"\u001b[39;00m\n\u001b[0;32m--> 690\u001b[0m     \u001b[39mself\u001b[39;49m\u001b[39m.\u001b[39;49m_check_indexing_error(key)\n\u001b[1;32m    692\u001b[0m     orig_key \u001b[39m=\u001b[39m key\n\u001b[1;32m    693\u001b[0m     \u001b[39mif\u001b[39;00m is_valid_na_for_dtype(key, \u001b[39mself\u001b[39m\u001b[39m.\u001b[39mdtype):\n",
      "File \u001b[0;32m~/anaconda3/lib/python3.10/site-packages/pandas/core/indexes/base.py:5925\u001b[0m, in \u001b[0;36mIndex._check_indexing_error\u001b[0;34m(self, key)\u001b[0m\n\u001b[1;32m   5921\u001b[0m \u001b[39mdef\u001b[39;00m \u001b[39m_check_indexing_error\u001b[39m(\u001b[39mself\u001b[39m, key):\n\u001b[1;32m   5922\u001b[0m     \u001b[39mif\u001b[39;00m \u001b[39mnot\u001b[39;00m is_scalar(key):\n\u001b[1;32m   5923\u001b[0m         \u001b[39m# if key is not a scalar, directly raise an error (the code below\u001b[39;00m\n\u001b[1;32m   5924\u001b[0m         \u001b[39m# would convert to numpy arrays and raise later any way) - GH29926\u001b[39;00m\n\u001b[0;32m-> 5925\u001b[0m         \u001b[39mraise\u001b[39;00m InvalidIndexError(key)\n",
      "\u001b[0;31mInvalidIndexError\u001b[0m: datascotacoes\n2000-01-03   NaN\n2000-01-04   NaN\n2000-01-05   NaN\n2000-01-06   NaN\n2000-01-07   NaN\n              ..\n2023-10-06   NaN\n2023-10-09   NaN\n2023-10-10   NaN\n2023-10-11   NaN\n2023-10-13   NaN\nLength: 5884, dtype: float64"
     ]
    }
   ],
   "source": [
    "lpa.index.get_loc(lpa_full, method='nearest')"
   ]
  },
  {
   "cell_type": "code",
   "execution_count": 95,
   "metadata": {},
   "outputs": [],
   "source": []
  },
  {
   "cell_type": "code",
   "execution_count": 105,
   "metadata": {},
   "outputs": [
    {
     "data": {
      "text/html": [
       "<div>\n",
       "<style scoped>\n",
       "    .dataframe tbody tr th:only-of-type {\n",
       "        vertical-align: middle;\n",
       "    }\n",
       "\n",
       "    .dataframe tbody tr th {\n",
       "        vertical-align: top;\n",
       "    }\n",
       "\n",
       "    .dataframe thead th {\n",
       "        text-align: right;\n",
       "    }\n",
       "</style>\n",
       "<table border=\"1\" class=\"dataframe\">\n",
       "  <thead>\n",
       "    <tr style=\"text-align: right;\">\n",
       "      <th></th>\n",
       "      <th>volumes</th>\n",
       "      <th>cot_nominal</th>\n",
       "      <th>cot_ajust_acoes</th>\n",
       "      <th>cot_ajust_acoes_dinheiro</th>\n",
       "    </tr>\n",
       "    <tr>\n",
       "      <th>datascotacoes</th>\n",
       "      <th></th>\n",
       "      <th></th>\n",
       "      <th></th>\n",
       "      <th></th>\n",
       "    </tr>\n",
       "  </thead>\n",
       "  <tbody>\n",
       "    <tr>\n",
       "      <th>2000-01-03</th>\n",
       "      <td>512567</td>\n",
       "      <td>42.00</td>\n",
       "      <td>3.50</td>\n",
       "      <td>1.08</td>\n",
       "    </tr>\n",
       "    <tr>\n",
       "      <th>2000-01-04</th>\n",
       "      <td>675650</td>\n",
       "      <td>41.00</td>\n",
       "      <td>3.42</td>\n",
       "      <td>1.06</td>\n",
       "    </tr>\n",
       "    <tr>\n",
       "      <th>2000-01-05</th>\n",
       "      <td>1594700</td>\n",
       "      <td>41.00</td>\n",
       "      <td>3.42</td>\n",
       "      <td>1.06</td>\n",
       "    </tr>\n",
       "    <tr>\n",
       "      <th>2000-01-06</th>\n",
       "      <td>686704</td>\n",
       "      <td>41.00</td>\n",
       "      <td>3.42</td>\n",
       "      <td>1.06</td>\n",
       "    </tr>\n",
       "    <tr>\n",
       "      <th>2000-01-07</th>\n",
       "      <td>4726890</td>\n",
       "      <td>42.50</td>\n",
       "      <td>3.54</td>\n",
       "      <td>1.10</td>\n",
       "    </tr>\n",
       "    <tr>\n",
       "      <th>...</th>\n",
       "      <td>...</td>\n",
       "      <td>...</td>\n",
       "      <td>...</td>\n",
       "      <td>...</td>\n",
       "    </tr>\n",
       "    <tr>\n",
       "      <th>2023-10-06</th>\n",
       "      <td>1514944097</td>\n",
       "      <td>66.86</td>\n",
       "      <td>66.86</td>\n",
       "      <td>66.86</td>\n",
       "    </tr>\n",
       "    <tr>\n",
       "      <th>2023-10-09</th>\n",
       "      <td>941790727</td>\n",
       "      <td>66.38</td>\n",
       "      <td>66.38</td>\n",
       "      <td>66.38</td>\n",
       "    </tr>\n",
       "    <tr>\n",
       "      <th>2023-10-10</th>\n",
       "      <td>1217012543</td>\n",
       "      <td>66.78</td>\n",
       "      <td>66.78</td>\n",
       "      <td>66.78</td>\n",
       "    </tr>\n",
       "    <tr>\n",
       "      <th>2023-10-11</th>\n",
       "      <td>910143576</td>\n",
       "      <td>67.36</td>\n",
       "      <td>67.36</td>\n",
       "      <td>67.36</td>\n",
       "    </tr>\n",
       "    <tr>\n",
       "      <th>2023-10-13</th>\n",
       "      <td>1081724992</td>\n",
       "      <td>66.59</td>\n",
       "      <td>66.59</td>\n",
       "      <td>66.59</td>\n",
       "    </tr>\n",
       "  </tbody>\n",
       "</table>\n",
       "<p>5884 rows × 4 columns</p>\n",
       "</div>"
      ],
      "text/plain": [
       "                  volumes  cot_nominal  cot_ajust_acoes  \\\n",
       "datascotacoes                                             \n",
       "2000-01-03         512567        42.00             3.50   \n",
       "2000-01-04         675650        41.00             3.42   \n",
       "2000-01-05        1594700        41.00             3.42   \n",
       "2000-01-06         686704        41.00             3.42   \n",
       "2000-01-07        4726890        42.50             3.54   \n",
       "...                   ...          ...              ...   \n",
       "2023-10-06     1514944097        66.86            66.86   \n",
       "2023-10-09      941790727        66.38            66.38   \n",
       "2023-10-10     1217012543        66.78            66.78   \n",
       "2023-10-11      910143576        67.36            67.36   \n",
       "2023-10-13     1081724992        66.59            66.59   \n",
       "\n",
       "               cot_ajust_acoes_dinheiro  \n",
       "datascotacoes                            \n",
       "2000-01-03                         1.08  \n",
       "2000-01-04                         1.06  \n",
       "2000-01-05                         1.06  \n",
       "2000-01-06                         1.06  \n",
       "2000-01-07                         1.10  \n",
       "...                                 ...  \n",
       "2023-10-06                        66.86  \n",
       "2023-10-09                        66.38  \n",
       "2023-10-10                        66.78  \n",
       "2023-10-11                        67.36  \n",
       "2023-10-13                        66.59  \n",
       "\n",
       "[5884 rows x 4 columns]"
      ]
     },
     "execution_count": 105,
     "metadata": {},
     "output_type": "execute_result"
    }
   ],
   "source": [
    "prices"
   ]
  },
  {
   "cell_type": "code",
   "execution_count": 100,
   "metadata": {},
   "outputs": [],
   "source": [
    "import matplotlib.pyplot as plt"
   ]
  },
  {
   "cell_type": "code",
   "execution_count": 116,
   "metadata": {},
   "outputs": [
    {
     "data": {
      "text/plain": [
       "[<matplotlib.lines.Line2D at 0x7f95659ab730>]"
      ]
     },
     "execution_count": 116,
     "metadata": {},
     "output_type": "execute_result"
    },
    {
     "data": {
      "image/png": "[encoded data removed]",
      "text/plain": [
       "<Figure size 640x480 with 2 Axes>"
      ]
     },
     "metadata": {},
     "output_type": "display_data"
    }
   ],
   "source": [
    "plt.plot(lpa)\n",
    "plt.twinx()\n",
    "plt.plot(prices.volumes,c=\"C1\",alpha=0.5)"
   ]
  },
  {
   "cell_type": "code",
   "execution_count": 6,
   "metadata": {},
   "outputs": [],
   "source": [
    "from src import get_assets\n",
    "all_assets = get_assets()"
   ]
  },
  {
   "cell_type": "code",
   "execution_count": 61,
   "metadata": {},
   "outputs": [],
   "source": [
    "from src import get_dupont, get_prices\n",
    "dupont = get_dupont(assets[0])\n",
    "prices = get_prices(assets[0])"
   ]
  },
  {
   "cell_type": "code",
   "execution_count": 67,
   "metadata": {},
   "outputs": [],
   "source": [
    "prices_pct = prices.cot_ajust_acoes_dinheiro.pct_change().fillna(0)\n",
    "# ((1+prices_pct).cumprod()-1).plot()"
   ]
  },
  {
   "cell_type": "code",
   "execution_count": null,
   "metadata": {},
   "outputs": [],
   "source": []
  },
  {
   "cell_type": "code",
   "execution_count": null,
   "metadata": {},
   "outputs": [],
   "source": [
    "# calcula extremos trimestrais (high/low)\n",
    "price_pct_trimestral = pd.DataFrame(columns=['high','low'], index=dupont.index[:-1])\n",
    "for interval in zip(dupont.index[:-1], dupont.index[1:]):\n",
    "    t1,t2 = interval\n",
    "    price_interval = prices_pct.loc[t1:t2]\n",
    "    price_interval = (1+price_interval).cumprod()-1\n",
    "    price_pct_trimestral.loc[t1,'high'] = price_interval.max()\n",
    "    price_pct_trimestral.loc[t1,'low'] = price_interval.min()\n",
    "price_pct_trimestral = price_pct_trimestral.astype(float)"
   ]
  },
  {
   "cell_type": "code",
   "execution_count": null,
   "metadata": {},
   "outputs": [],
   "source": [
    "data = dupont.join(price_pct_trimestral,how='outer').dropna()"
   ]
  },
  {
   "cell_type": "code",
   "execution_count": 13,
   "metadata": {},
   "outputs": [
    {
     "ename": "NameError",
     "evalue": "name 'data' is not defined",
     "output_type": "error",
     "traceback": [
      "\u001b[0;31m---------------------------------------------------------------------------\u001b[0m",
      "\u001b[0;31mNameError\u001b[0m                                 Traceback (most recent call last)",
      "\u001b[1;32m/home/lucas/projetos/pessoais/sugestao_carteira_de_acoes/test.ipynb Cell 9\u001b[0m line \u001b[0;36m1\n\u001b[0;32m----> <a href='vscode-notebook-cell://wsl%2Bubuntu/home/lucas/projetos/pessoais/sugestao_carteira_de_acoes/test.ipynb#X11sdnNjb2RlLXJlbW90ZQ%3D%3D?line=0'>1</a>\u001b[0m data\u001b[39m.\u001b[39mcorr()[[\u001b[39m'\u001b[39m\u001b[39mhigh\u001b[39m\u001b[39m'\u001b[39m,\u001b[39m'\u001b[39m\u001b[39mlow\u001b[39m\u001b[39m'\u001b[39m]]\u001b[39m.\u001b[39msort_values([\u001b[39m'\u001b[39m\u001b[39mhigh\u001b[39m\u001b[39m'\u001b[39m,\u001b[39m'\u001b[39m\u001b[39mlow\u001b[39m\u001b[39m'\u001b[39m],ascending\u001b[39m=\u001b[39m\u001b[39mFalse\u001b[39;00m)\n",
      "\u001b[0;31mNameError\u001b[0m: name 'data' is not defined"
     ]
    }
   ],
   "source": [
    "data.corr()[['high','low']].sort_values(['high','low'],ascending=False)"
   ]
  },
  {
   "cell_type": "code",
   "execution_count": 761,
   "metadata": {},
   "outputs": [
    {
     "data": {
      "text/html": [
       "<div>\n",
       "<style scoped>\n",
       "    .dataframe tbody tr th:only-of-type {\n",
       "        vertical-align: middle;\n",
       "    }\n",
       "\n",
       "    .dataframe tbody tr th {\n",
       "        vertical-align: top;\n",
       "    }\n",
       "\n",
       "    .dataframe thead th {\n",
       "        text-align: right;\n",
       "    }\n",
       "</style>\n",
       "<table border=\"1\" class=\"dataframe\">\n",
       "  <thead>\n",
       "    <tr style=\"text-align: right;\">\n",
       "      <th></th>\n",
       "      <th>high</th>\n",
       "      <th>low</th>\n",
       "    </tr>\n",
       "  </thead>\n",
       "  <tbody>\n",
       "    <tr>\n",
       "      <th>high</th>\n",
       "      <td>1.000000</td>\n",
       "      <td>0.499541</td>\n",
       "    </tr>\n",
       "    <tr>\n",
       "      <th>low</th>\n",
       "      <td>0.499541</td>\n",
       "      <td>1.000000</td>\n",
       "    </tr>\n",
       "    <tr>\n",
       "      <th>MARGEM_LIQUIDA_ANUAL</th>\n",
       "      <td>0.282169</td>\n",
       "      <td>0.229593</td>\n",
       "    </tr>\n",
       "    <tr>\n",
       "      <th>RETORNO_ATIVO_ANUAL</th>\n",
       "      <td>0.178996</td>\n",
       "      <td>-0.002169</td>\n",
       "    </tr>\n",
       "    <tr>\n",
       "      <th>RETORNO_PL_ANUAL</th>\n",
       "      <td>0.134821</td>\n",
       "      <td>-0.113694</td>\n",
       "    </tr>\n",
       "    <tr>\n",
       "      <th>ALAVANCAGEM_FINANCEIRA_ANUAL</th>\n",
       "      <td>0.083036</td>\n",
       "      <td>-0.241537</td>\n",
       "    </tr>\n",
       "    <tr>\n",
       "      <th>GIRO_ATIVO_ANUAL</th>\n",
       "      <td>-0.059192</td>\n",
       "      <td>-0.201758</td>\n",
       "    </tr>\n",
       "  </tbody>\n",
       "</table>\n",
       "</div>"
      ],
      "text/plain": [
       "                                  high       low\n",
       "high                          1.000000  0.499541\n",
       "low                           0.499541  1.000000\n",
       "MARGEM_LIQUIDA_ANUAL          0.282169  0.229593\n",
       "RETORNO_ATIVO_ANUAL           0.178996 -0.002169\n",
       "RETORNO_PL_ANUAL              0.134821 -0.113694\n",
       "ALAVANCAGEM_FINANCEIRA_ANUAL  0.083036 -0.241537\n",
       "GIRO_ATIVO_ANUAL             -0.059192 -0.201758"
      ]
     },
     "execution_count": 761,
     "metadata": {},
     "output_type": "execute_result"
    }
   ],
   "source": [
    "data[data['high']<0.1].corr()[['high','low']].sort_values(['high','low'],ascending=False)"
   ]
  },
  {
   "cell_type": "code",
   "execution_count": 900,
   "metadata": {},
   "outputs": [
    {
     "name": "stdout",
     "output_type": "stream",
     "text": [
      "31 62 31 62\n",
      "0.7096774193548387\n"
     ]
    }
   ],
   "source": [
    "from sklearn.ensemble import RandomForestClassifier\n",
    "from sklearn.model_selection import train_test_split\n",
    "\n",
    "X = data.drop(['high','low'],axis=1).values\n",
    "y = (data['high'] > 0.1).astype(int).values\n",
    "\n",
    "train_size = (X.shape[0] * 2) // 3\n",
    "\n",
    "X_train, X_test = X[train_size:], X[:train_size]\n",
    "y_train, y_test = y[train_size:], y[:train_size]\n",
    "\n",
    "print(X_train.shape[0], X_test.shape[0], y_train.shape[0], y_test.shape[0])\n",
    "sample_weight = y_train.mean()\n",
    "print(sample_weight)"
   ]
  },
  {
   "cell_type": "code",
   "execution_count": 935,
   "metadata": {},
   "outputs": [
    {
     "name": "stdout",
     "output_type": "stream",
     "text": [
      "f1= 1.0\n",
      "f1= 0.5423728813559322\n"
     ]
    }
   ],
   "source": [
    "from sklearn.metrics import confusion_matrix, precision_score, recall_score, f1_score\n",
    "from sklearn.model_selection import RandomizedSearchCV, GridSearchCV\n",
    "# cls = RandomForestClassifier(random_state=1)\n",
    "cls = RandomForestClassifier(random_state=9, class_weight={0:sample_weight,1:1-sample_weight})\n",
    "csl = GridSearchCV(cls, {\n",
    "        'n_estimators':[10, 1000],\n",
    "        'max_depth':[1,3],\n",
    "        # 'class_weight':{0:[sample_weight],1:1-sample_weight},\n",
    "    },\n",
    "    n_jobs=-1,\n",
    "    scoring=f1_score\n",
    ")\n",
    "cls.fit(X_train, y_train)\n",
    "y_pred = cls.predict(X_train)\n",
    "print('f1=',f1_score(y_train, y_pred))\n",
    "y_pred = cls.predict(X_test)\n",
    "print('f1=',f1_score(y_test, y_pred))"
   ]
  },
  {
   "cell_type": "code",
   "execution_count": 920,
   "metadata": {},
   "outputs": [
    {
     "data": {
      "text/plain": [
       "{'bootstrap': True,\n",
       " 'ccp_alpha': 0.0,\n",
       " 'class_weight': {0: 0.7096774193548387, 1: 0.29032258064516125},\n",
       " 'criterion': 'gini',\n",
       " 'max_depth': None,\n",
       " 'max_features': 'sqrt',\n",
       " 'max_leaf_nodes': None,\n",
       " 'max_samples': None,\n",
       " 'min_impurity_decrease': 0.0,\n",
       " 'min_samples_leaf': 1,\n",
       " 'min_samples_split': 2,\n",
       " 'min_weight_fraction_leaf': 0.0,\n",
       " 'n_estimators': 100,\n",
       " 'n_jobs': None,\n",
       " 'oob_score': False,\n",
       " 'random_state': 1,\n",
       " 'verbose': 0,\n",
       " 'warm_start': False}"
      ]
     },
     "execution_count": 920,
     "metadata": {},
     "output_type": "execute_result"
    }
   ],
   "source": [
    "cls.get_params()"
   ]
  },
  {
   "cell_type": "code",
   "execution_count": 810,
   "metadata": {},
   "outputs": [
    {
     "data": {
      "text/plain": [
       "93"
      ]
     },
     "execution_count": 810,
     "metadata": {},
     "output_type": "execute_result"
    }
   ],
   "source": [
    "all_assets[all_assets['setor'] == all_assets['setor'][0]].shape[0]"
   ]
  },
  {
   "cell_type": "code",
   "execution_count": 795,
   "metadata": {},
   "outputs": [
    {
     "data": {
      "text/plain": [
       "array([[19,  7],\n",
       "       [25, 11]])"
      ]
     },
     "execution_count": 795,
     "metadata": {},
     "output_type": "execute_result"
    }
   ],
   "source": []
  }
 ],
 "metadata": {
  "kernelspec": {
   "display_name": "venv",
   "language": "python",
   "name": "python3"
  },
  "language_info": {
   "codemirror_mode": {
    "name": "ipython",
    "version": 3
   },
   "file_extension": ".py",
   "mimetype": "text/x-python",
   "name": "python",
   "nbconvert_exporter": "python",
   "pygments_lexer": "ipython3",
   "version": "3.10.9"
  },
  "orig_nbformat": 4
 },
 "nbformat": 4,
 "nbformat_minor": 2
}
